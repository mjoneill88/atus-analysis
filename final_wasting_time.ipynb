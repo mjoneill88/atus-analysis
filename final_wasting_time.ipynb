{
 "cells": [
  {
   "cell_type": "code",
   "execution_count": 394,
   "metadata": {
    "collapsed": true
   },
   "outputs": [],
   "source": [
    "import pandas as pd\n",
    "import matplotlib.pyplot as plt\n",
    "import numpy as np\n",
    "import math\n",
    "import statistics\n",
    "%matplotlib inline\n",
    "activity = pd.read_csv('/Users/mjoneill/Documents/week4/wasting-time/data/atusact_2014.dat')"
   ]
  },
  {
   "cell_type": "code",
   "execution_count": 395,
   "metadata": {
    "collapsed": false
   },
   "outputs": [
    {
     "data": {
      "text/html": [
       "<div>\n",
       "<table border=\"1\" class=\"dataframe\">\n",
       "  <thead>\n",
       "    <tr style=\"text-align: right;\">\n",
       "      <th></th>\n",
       "      <th>tucaseid</th>\n",
       "      <th>TEAGE</th>\n",
       "      <th>TESEX</th>\n",
       "      <th>PTDTRACE</th>\n",
       "      <th>TRERNWA</th>\n",
       "      <th>t010101</th>\n",
       "    </tr>\n",
       "  </thead>\n",
       "  <tbody>\n",
       "    <tr>\n",
       "      <th>0</th>\n",
       "      <td>20140101140007</td>\n",
       "      <td>20</td>\n",
       "      <td>2</td>\n",
       "      <td>1</td>\n",
       "      <td>-1</td>\n",
       "      <td>1145</td>\n",
       "    </tr>\n",
       "    <tr>\n",
       "      <th>1</th>\n",
       "      <td>20140101140011</td>\n",
       "      <td>16</td>\n",
       "      <td>2</td>\n",
       "      <td>2</td>\n",
       "      <td>184615</td>\n",
       "      <td>540</td>\n",
       "    </tr>\n",
       "    <tr>\n",
       "      <th>2</th>\n",
       "      <td>20140101140028</td>\n",
       "      <td>65</td>\n",
       "      <td>2</td>\n",
       "      <td>1</td>\n",
       "      <td>-1</td>\n",
       "      <td>555</td>\n",
       "    </tr>\n",
       "    <tr>\n",
       "      <th>3</th>\n",
       "      <td>20140101140063</td>\n",
       "      <td>50</td>\n",
       "      <td>2</td>\n",
       "      <td>2</td>\n",
       "      <td>-1</td>\n",
       "      <td>780</td>\n",
       "    </tr>\n",
       "    <tr>\n",
       "      <th>4</th>\n",
       "      <td>20140101140168</td>\n",
       "      <td>23</td>\n",
       "      <td>2</td>\n",
       "      <td>2</td>\n",
       "      <td>-1</td>\n",
       "      <td>645</td>\n",
       "    </tr>\n",
       "  </tbody>\n",
       "</table>\n",
       "</div>"
      ],
      "text/plain": [
       "         tucaseid  TEAGE  TESEX  PTDTRACE  TRERNWA  t010101\n",
       "0  20140101140007     20      2         1       -1     1145\n",
       "1  20140101140011     16      2         2   184615      540\n",
       "2  20140101140028     65      2         1       -1      555\n",
       "3  20140101140063     50      2         2       -1      780\n",
       "4  20140101140168     23      2         2       -1      645"
      ]
     },
     "execution_count": 395,
     "metadata": {},
     "output_type": "execute_result"
    }
   ],
   "source": [
    "ciw =[0,3,4,6,16, 24]\n",
    "summary_activity = pd.read_csv('/Users/mjoneill/Documents/week4/wasting-time/data/atussum_2014.dat', usecols = ciw)\n",
    "summary_activity.head()"
   ]
  },
  {
   "cell_type": "code",
   "execution_count": 396,
   "metadata": {
    "collapsed": false
   },
   "outputs": [
    {
     "data": {
      "text/html": [
       "<div>\n",
       "<table border=\"1\" class=\"dataframe\">\n",
       "  <thead>\n",
       "    <tr style=\"text-align: right;\">\n",
       "      <th></th>\n",
       "      <th>ID</th>\n",
       "      <th>Age</th>\n",
       "      <th>Sex</th>\n",
       "      <th>Race</th>\n",
       "      <th>WeeklyEarn</th>\n",
       "      <th>Time Slept</th>\n",
       "    </tr>\n",
       "  </thead>\n",
       "  <tbody>\n",
       "    <tr>\n",
       "      <th>0</th>\n",
       "      <td>20140101140007</td>\n",
       "      <td>20</td>\n",
       "      <td>2</td>\n",
       "      <td>1</td>\n",
       "      <td>-1</td>\n",
       "      <td>1145</td>\n",
       "    </tr>\n",
       "    <tr>\n",
       "      <th>1</th>\n",
       "      <td>20140101140011</td>\n",
       "      <td>16</td>\n",
       "      <td>2</td>\n",
       "      <td>2</td>\n",
       "      <td>184615</td>\n",
       "      <td>540</td>\n",
       "    </tr>\n",
       "    <tr>\n",
       "      <th>2</th>\n",
       "      <td>20140101140028</td>\n",
       "      <td>65</td>\n",
       "      <td>2</td>\n",
       "      <td>1</td>\n",
       "      <td>-1</td>\n",
       "      <td>555</td>\n",
       "    </tr>\n",
       "    <tr>\n",
       "      <th>3</th>\n",
       "      <td>20140101140063</td>\n",
       "      <td>50</td>\n",
       "      <td>2</td>\n",
       "      <td>2</td>\n",
       "      <td>-1</td>\n",
       "      <td>780</td>\n",
       "    </tr>\n",
       "    <tr>\n",
       "      <th>4</th>\n",
       "      <td>20140101140168</td>\n",
       "      <td>23</td>\n",
       "      <td>2</td>\n",
       "      <td>2</td>\n",
       "      <td>-1</td>\n",
       "      <td>645</td>\n",
       "    </tr>\n",
       "  </tbody>\n",
       "</table>\n",
       "</div>"
      ],
      "text/plain": [
       "               ID  Age  Sex  Race  WeeklyEarn  Time Slept\n",
       "0  20140101140007   20    2     1          -1        1145\n",
       "1  20140101140011   16    2     2      184615         540\n",
       "2  20140101140028   65    2     1          -1         555\n",
       "3  20140101140063   50    2     2          -1         780\n",
       "4  20140101140168   23    2     2          -1         645"
      ]
     },
     "execution_count": 396,
     "metadata": {},
     "output_type": "execute_result"
    }
   ],
   "source": [
    "summary_activity.columns=['ID','Age','Sex','Race','WeeklyEarn','Time Slept']\n",
    "summary_activity.head()"
   ]
  },
  {
   "cell_type": "code",
   "execution_count": 397,
   "metadata": {
    "collapsed": false
   },
   "outputs": [],
   "source": [
    "def minutes_to_hours(minutes):\n",
    "    return minutes / 60\n",
    "summary_activity['Hours Slept'] = minutes_to_hours(summary_activity['Time Slept'])"
   ]
  },
  {
   "cell_type": "code",
   "execution_count": 398,
   "metadata": {
    "collapsed": false
   },
   "outputs": [
    {
     "name": "stdout",
     "output_type": "stream",
     "text": [
      "Mean hours slept by ages:\n",
      "15-19 9.87174523008\n",
      "20-24 9.40665280665\n",
      "25-34 8.85907325194\n",
      "35-44 8.5954467354\n",
      "45-55 8.66844949984\n",
      "55-64 8.56612161472\n",
      "65+   8.95499087829\n"
     ]
    }
   ],
   "source": [
    "age1519=summary_activity[summary_activity.Age <=19]\n",
    "age1519mean=age1519['Hours Slept'].mean()\n",
    "print('Mean hours slept by ages:')\n",
    "print('15-19',age1519mean)\n",
    "age2024=summary_activity[summary_activity.Age >19]\n",
    "age2024=age2024[age2024.Age <25]\n",
    "age2024mean=age2024['Hours Slept'].mean()\n",
    "print('20-24',age2024mean)\n",
    "age2534 =summary_activity[summary_activity.Age >24]\n",
    "age2534=age2534[age2534.Age <35]\n",
    "age2534mean=age2534['Hours Slept'].mean()\n",
    "print('25-34',age2534mean)\n",
    "age3544=summary_activity[summary_activity.Age > 34]\n",
    "age3544=age3544[age3544.Age <45]\n",
    "age3544mean=age3544['Hours Slept'].mean()\n",
    "print('35-44',age3544mean)\n",
    "age4554=summary_activity[summary_activity.Age >44]\n",
    "age4554=age4554[age4554.Age <55]\n",
    "age4554mean=age4554['Hours Slept'].mean()\n",
    "print('45-55',age4554mean)\n",
    "age5564=summary_activity[summary_activity.Age >54]\n",
    "age5564=age5564[age5564.Age < 65]\n",
    "age5564mean=age5564['Hours Slept'].mean()\n",
    "print('55-64',age5564mean)\n",
    "age65over=summary_activity[summary_activity.Age >64]\n",
    "age65overmean=age65over['Hours Slept'].mean()\n",
    "print('65+  ',age65overmean)"
   ]
  },
  {
   "cell_type": "code",
   "execution_count": 399,
   "metadata": {
    "collapsed": false,
    "scrolled": false
   },
   "outputs": [
    {
     "data": {
      "text/plain": [
       "<matplotlib.text.Text at 0x11c73d8d0>"
      ]
     },
     "execution_count": 399,
     "metadata": {},
     "output_type": "execute_result"
    },
    {
     "data": {
      "image/png": "[encoded data removed]",
      "text/plain": [
       "<matplotlib.figure.Figure at 0x116d27c50>"
      ]
     },
     "metadata": {},
     "output_type": "display_data"
    }
   ],
   "source": [
    "y=[9.87,9.41,8.86,8.60,8.69,8.57,8.95]\n",
    "x=[2,4,6,8,10,12,14]\n",
    "plt.bar(x,y)\n",
    "plt.xlabel('15-19/20-24/25-34/35-44/45-54/55-64/65+')\n",
    "plt.ylabel('Mean Hours Slept')\n",
    "plt.title('Sleep by Age Group')"
   ]
  },
  {
   "cell_type": "code",
   "execution_count": 400,
   "metadata": {
    "collapsed": false
   },
   "outputs": [
    {
     "name": "stdout",
     "output_type": "stream",
     "text": [
      "Mean hours slept for men: 8.70283632579\n",
      "Mean hours slept for women: 8.91799628942\n"
     ]
    }
   ],
   "source": [
    "sex_sleep=summary_activity[summary_activity.Sex < 3]\n",
    "sex_sleep=sex_sleep[sex_sleep.Sex > 0]\n",
    "male_sleep=sex_sleep[sex_sleep.Sex == 1]\n",
    "female_sleep=sex_sleep[sex_sleep.Sex == 2]\n",
    "male_mean=male_sleep['Hours Slept'].mean()\n",
    "female_mean=female_sleep['Hours Slept'].mean()\n",
    "print('Mean hours slept for men:', male_mean)\n",
    "print('Mean hours slept for women:', female_mean)"
   ]
  },
  {
   "cell_type": "code",
   "execution_count": 401,
   "metadata": {
    "collapsed": false
   },
   "outputs": [
    {
     "data": {
      "text/plain": [
       "<matplotlib.text.Text at 0x11b7ec3c8>"
      ]
     },
     "execution_count": 401,
     "metadata": {},
     "output_type": "execute_result"
    },
    {
     "data": {
      "image/png": "[encoded data removed]",
      "text/plain": [
       "<matplotlib.figure.Figure at 0x11b7f1c88>"
      ]
     },
     "metadata": {},
     "output_type": "display_data"
    }
   ],
   "source": [
    "y=[8.7028,8.9180]\n",
    "x=[1,2]\n",
    "plt.bar(x,y)\n",
    "plt.xlabel('Male/Female')\n",
    "plt.ylabel('Mean Hours Slept')\n",
    "plt.title('Sleep by Sex')"
   ]
  },
  {
   "cell_type": "code",
   "execution_count": 402,
   "metadata": {
    "collapsed": false
   },
   "outputs": [
    {
     "name": "stdout",
     "output_type": "stream",
     "text": [
      "Mean hours slept by whites 8.76348263586\n",
      "Mean hours slept by blacks 9.12134520277\n",
      "Mean hours slept by American Indians 8.55\n",
      "Mean hours slept by asians 8.96773276475\n"
     ]
    }
   ],
   "source": [
    "whites_only=summary_activity[summary_activity.Race == 1]\n",
    "blacks_only=summary_activity[summary_activity.Race ==2]\n",
    "amer_indian=summary_activity[summary_activity.Race == 3]\n",
    "asian_only=summary_activity[summary_activity.Race == 4]\n",
    "white_mean=whites_only['Hours Slept'].mean()\n",
    "black_mean=blacks_only['Hours Slept'].mean()\n",
    "amerind_mean=amer_indian['Hours Slept'].mean()\n",
    "asian_mean=asian_only['Hours Slept'].mean()\n",
    "print('Mean hours slept by whites',white_mean)\n",
    "print('Mean hours slept by blacks',black_mean)\n",
    "print('Mean hours slept by American Indians',amerind_mean)\n",
    "print('Mean hours slept by asians', asian_mean)"
   ]
  },
  {
   "cell_type": "code",
   "execution_count": 403,
   "metadata": {
    "collapsed": false
   },
   "outputs": [
    {
     "data": {
      "text/plain": [
       "<matplotlib.text.Text at 0x1181eafd0>"
      ]
     },
     "execution_count": 403,
     "metadata": {},
     "output_type": "execute_result"
    },
    {
     "data": {
      "image/png": "[encoded data removed]",
      "text/plain": [
       "<matplotlib.figure.Figure at 0x119a9c2e8>"
      ]
     },
     "metadata": {},
     "output_type": "display_data"
    }
   ],
   "source": [
    "y=[white_mean,black_mean,amerind_mean,asian_mean]\n",
    "x=[2,4,6,8]\n",
    "plt.bar(x,y)\n",
    "plt.xlabel('White/Black/America Indian/Asian')\n",
    "plt.ylabel('Mean Hours Slept')\n",
    "plt.title('Sleep by Race')"
   ]
  },
  {
   "cell_type": "code",
   "execution_count": 404,
   "metadata": {
    "collapsed": false
   },
   "outputs": [],
   "source": [
    "def weekly_to_yearly_income(week_income):\n",
    "    return week_income * 52.39\n",
    "summary_activity['YearlyEarn'] = weekly_to_yearly_income(summary_activity['WeeklyEarn'])\n",
    "clean_sa=summary_activity[summary_activity.WeeklyEarn > 0]\n",
    "clean_sa=clean_sa[clean_sa.Age >18]"
   ]
  },
  {
   "cell_type": "code",
   "execution_count": 405,
   "metadata": {
    "collapsed": false
   },
   "outputs": [
    {
     "name": "stdout",
     "output_type": "stream",
     "text": [
      "Mean income for earners in category:\n",
      "Less than $50,000  5369.975\n",
      "$50,000-$100,000   51385.8583333\n",
      "$100,000-$300,000  175187.04878\n",
      "> $300,000         5097708.51263\n"
     ]
    }
   ],
   "source": [
    "incomeless50=clean_sa[clean_sa.YearlyEarn <=50000]\n",
    "income51100=clean_sa[clean_sa.YearlyEarn > 50000]\n",
    "income51100=clean_sa[clean_sa.YearlyEarn <100000]\n",
    "income100300=clean_sa[clean_sa.YearlyEarn >100000]\n",
    "income100300=clean_sa[clean_sa.YearlyEarn < 300000]\n",
    "income300greater=clean_sa[clean_sa.YearlyEarn > 300000]\n",
    "incomeless50mean=incomeless50['YearlyEarn'].mean()\n",
    "income51100mean=income51100['YearlyEarn'].mean()\n",
    "income100300mean=income100300['YearlyEarn'].mean()\n",
    "income300greatermean=income300greater['YearlyEarn'].mean()\n",
    "print('Mean income for earners in category:')\n",
    "print('Less than $50,000 ', incomeless50mean)\n",
    "print('$50,000-$100,000  ', income51100mean)\n",
    "print(\"$100,000-$300,000 \", income100300mean)\n",
    "print('> $300,000        ',income300greatermean)"
   ]
  },
  {
   "cell_type": "code",
   "execution_count": 406,
   "metadata": {
    "collapsed": false
   },
   "outputs": [
    {
     "name": "stdout",
     "output_type": "stream",
     "text": [
      "Mean Hours Slept for Income Brackets:\n",
      "<50k         8.0\n",
      "50-100k      8.04166666667\n",
      "100-300k     8.89105691057\n",
      ">300k        8.55616002215\n"
     ]
    }
   ],
   "source": [
    "inc50=incomeless50['Hours Slept'].mean()\n",
    "inc511=income51100['Hours Slept'].mean()\n",
    "inc100=income100300['Hours Slept'].mean()\n",
    "inc300=income300greater['Hours Slept'].mean()\n",
    "print('Mean Hours Slept for Income Brackets:')\n",
    "print('<50k        ',inc50)\n",
    "print('50-100k     ', inc511)\n",
    "print('100-300k    ',inc100)\n",
    "print('>300k       ',inc300)"
   ]
  },
  {
   "cell_type": "code",
   "execution_count": 407,
   "metadata": {
    "collapsed": false
   },
   "outputs": [
    {
     "data": {
      "text/plain": [
       "<matplotlib.text.Text at 0x117130d68>"
      ]
     },
     "execution_count": 407,
     "metadata": {},
     "output_type": "execute_result"
    },
    {
     "data": {
      "image/png": "[encoded data removed]",
      "text/plain": [
       "<matplotlib.figure.Figure at 0x118220518>"
      ]
     },
     "metadata": {},
     "output_type": "display_data"
    }
   ],
   "source": [
    "y=[inc50,inc511,inc100,inc300]\n",
    "x=[2,4,6,8]\n",
    "plt.bar(x,y)\n",
    "plt.xlabel('<50k/50-100k/100-300k/>300k')\n",
    "plt.ylabel('Mean Hours Slept')\n",
    "plt.title('Sleep by Income Bracket')"
   ]
  },
  {
   "cell_type": "code",
   "execution_count": 410,
   "metadata": {
    "collapsed": false
   },
   "outputs": [
    {
     "name": "stdout",
     "output_type": "stream",
     "text": [
      "As can be seen in the table below, there is a negative\n",
      "correlation between hours slept and yearly earnings.\n",
      "The correlation coefficient is -0.1.\n"
     ]
    }
   ],
   "source": [
    "print('As can be seen in the table below, there is a negative')\n",
    "print('correlation between hours slept and yearly earnings.')\n",
    "print('The correlation coefficient is -0.1.')"
   ]
  },
  {
   "cell_type": "code",
   "execution_count": 409,
   "metadata": {
    "collapsed": false,
    "scrolled": true
   },
   "outputs": [
    {
     "data": {
      "text/html": [
       "<div>\n",
       "<table border=\"1\" class=\"dataframe\">\n",
       "  <thead>\n",
       "    <tr style=\"text-align: right;\">\n",
       "      <th></th>\n",
       "      <th>ID</th>\n",
       "      <th>Age</th>\n",
       "      <th>Sex</th>\n",
       "      <th>Race</th>\n",
       "      <th>WeeklyEarn</th>\n",
       "      <th>Time Slept</th>\n",
       "      <th>Hours Slept</th>\n",
       "      <th>YearlyEarn</th>\n",
       "    </tr>\n",
       "  </thead>\n",
       "  <tbody>\n",
       "    <tr>\n",
       "      <th>ID</th>\n",
       "      <td>1.000000</td>\n",
       "      <td>-0.022320</td>\n",
       "      <td>-0.036952</td>\n",
       "      <td>-0.006067</td>\n",
       "      <td>0.008579</td>\n",
       "      <td>0.016065</td>\n",
       "      <td>0.016065</td>\n",
       "      <td>0.008579</td>\n",
       "    </tr>\n",
       "    <tr>\n",
       "      <th>Age</th>\n",
       "      <td>-0.022320</td>\n",
       "      <td>1.000000</td>\n",
       "      <td>0.006346</td>\n",
       "      <td>-0.057015</td>\n",
       "      <td>0.081418</td>\n",
       "      <td>-0.086526</td>\n",
       "      <td>-0.086526</td>\n",
       "      <td>0.081418</td>\n",
       "    </tr>\n",
       "    <tr>\n",
       "      <th>Sex</th>\n",
       "      <td>-0.036952</td>\n",
       "      <td>0.006346</td>\n",
       "      <td>1.000000</td>\n",
       "      <td>-0.000116</td>\n",
       "      <td>-0.237098</td>\n",
       "      <td>0.055118</td>\n",
       "      <td>0.055118</td>\n",
       "      <td>-0.237098</td>\n",
       "    </tr>\n",
       "    <tr>\n",
       "      <th>Race</th>\n",
       "      <td>-0.006067</td>\n",
       "      <td>-0.057015</td>\n",
       "      <td>-0.000116</td>\n",
       "      <td>1.000000</td>\n",
       "      <td>0.012970</td>\n",
       "      <td>0.008858</td>\n",
       "      <td>0.008858</td>\n",
       "      <td>0.012970</td>\n",
       "    </tr>\n",
       "    <tr>\n",
       "      <th>WeeklyEarn</th>\n",
       "      <td>0.008579</td>\n",
       "      <td>0.081418</td>\n",
       "      <td>-0.237098</td>\n",
       "      <td>0.012970</td>\n",
       "      <td>1.000000</td>\n",
       "      <td>-0.102716</td>\n",
       "      <td>-0.102716</td>\n",
       "      <td>1.000000</td>\n",
       "    </tr>\n",
       "    <tr>\n",
       "      <th>Time Slept</th>\n",
       "      <td>0.016065</td>\n",
       "      <td>-0.086526</td>\n",
       "      <td>0.055118</td>\n",
       "      <td>0.008858</td>\n",
       "      <td>-0.102716</td>\n",
       "      <td>1.000000</td>\n",
       "      <td>1.000000</td>\n",
       "      <td>-0.102716</td>\n",
       "    </tr>\n",
       "    <tr>\n",
       "      <th>Hours Slept</th>\n",
       "      <td>0.016065</td>\n",
       "      <td>-0.086526</td>\n",
       "      <td>0.055118</td>\n",
       "      <td>0.008858</td>\n",
       "      <td>-0.102716</td>\n",
       "      <td>1.000000</td>\n",
       "      <td>1.000000</td>\n",
       "      <td>-0.102716</td>\n",
       "    </tr>\n",
       "    <tr>\n",
       "      <th>YearlyEarn</th>\n",
       "      <td>0.008579</td>\n",
       "      <td>0.081418</td>\n",
       "      <td>-0.237098</td>\n",
       "      <td>0.012970</td>\n",
       "      <td>1.000000</td>\n",
       "      <td>-0.102716</td>\n",
       "      <td>-0.102716</td>\n",
       "      <td>1.000000</td>\n",
       "    </tr>\n",
       "  </tbody>\n",
       "</table>\n",
       "</div>"
      ],
      "text/plain": [
       "                   ID       Age       Sex      Race  WeeklyEarn  Time Slept  \\\n",
       "ID           1.000000 -0.022320 -0.036952 -0.006067    0.008579    0.016065   \n",
       "Age         -0.022320  1.000000  0.006346 -0.057015    0.081418   -0.086526   \n",
       "Sex         -0.036952  0.006346  1.000000 -0.000116   -0.237098    0.055118   \n",
       "Race        -0.006067 -0.057015 -0.000116  1.000000    0.012970    0.008858   \n",
       "WeeklyEarn   0.008579  0.081418 -0.237098  0.012970    1.000000   -0.102716   \n",
       "Time Slept   0.016065 -0.086526  0.055118  0.008858   -0.102716    1.000000   \n",
       "Hours Slept  0.016065 -0.086526  0.055118  0.008858   -0.102716    1.000000   \n",
       "YearlyEarn   0.008579  0.081418 -0.237098  0.012970    1.000000   -0.102716   \n",
       "\n",
       "             Hours Slept  YearlyEarn  \n",
       "ID              0.016065    0.008579  \n",
       "Age            -0.086526    0.081418  \n",
       "Sex             0.055118   -0.237098  \n",
       "Race            0.008858    0.012970  \n",
       "WeeklyEarn     -0.102716    1.000000  \n",
       "Time Slept      1.000000   -0.102716  \n",
       "Hours Slept     1.000000   -0.102716  \n",
       "YearlyEarn     -0.102716    1.000000  "
      ]
     },
     "execution_count": 409,
     "metadata": {},
     "output_type": "execute_result"
    }
   ],
   "source": [
    "clean_sa.corr()"
   ]
  },
  {
   "cell_type": "code",
   "execution_count": null,
   "metadata": {
    "collapsed": false
   },
   "outputs": [],
   "source": []
  },
  {
   "cell_type": "code",
   "execution_count": null,
   "metadata": {
    "collapsed": true
   },
   "outputs": [],
   "source": []
  }
 ],
 "metadata": {
  "kernelspec": {
   "display_name": "Python 3",
   "language": "python",
   "name": "python3"
  },
  "language_info": {
   "codemirror_mode": {
    "name": "ipython",
    "version": 3
   },
   "file_extension": ".py",
   "mimetype": "text/x-python",
   "name": "python",
   "nbconvert_exporter": "python",
   "pygments_lexer": "ipython3",
   "version": "3.5.1"
  }
 },
 "nbformat": 4,
 "nbformat_minor": 0
}
